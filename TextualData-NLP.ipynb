{
  "nbformat": 4,
  "nbformat_minor": 0,
  "metadata": {
    "colab": {
      "provenance": [],
      "include_colab_link": true
    },
    "kernelspec": {
      "name": "python3",
      "display_name": "Python 3"
    },
    "language_info": {
      "name": "python"
    }
  },
  "cells": [
    {
      "cell_type": "markdown",
      "metadata": {
        "id": "view-in-github",
        "colab_type": "text"
      },
      "source": [
        "<a href=\"https://colab.research.google.com/github/kushal721/NLP-Textual-Data-Analysis/blob/main/TextualData-NLP.ipynb\" target=\"_parent\"><img src=\"https://colab.research.google.com/assets/colab-badge.svg\" alt=\"Open In Colab\"/></a>"
      ]
    },
    {
      "cell_type": "code",
      "execution_count": null,
      "metadata": {
        "id": "bM_i0Y_YOzyr"
      },
      "outputs": [],
      "source": [
        "import pandas as pd"
      ]
    },
    {
      "cell_type": "code",
      "source": [
        "file_path = '/content/questions.csv'\n",
        "data = pd.read_csv(file_path)"
      ],
      "metadata": {
        "id": "rsppk_TeROYj"
      },
      "execution_count": null,
      "outputs": []
    },
    {
      "cell_type": "code",
      "source": [
        "print(data.head())"
      ],
      "metadata": {
        "colab": {
          "base_uri": "https://localhost:8080/"
        },
        "id": "bvupH90CRiay",
        "outputId": "f8b6bc70-eb56-4cba-d2da-1f4aad14fba3"
      },
      "execution_count": null,
      "outputs": [
        {
          "output_type": "stream",
          "name": "stdout",
          "text": [
            "                                       Main Question\n",
            "0  Are there information security requirements fo...\n",
            "1         What is the password history before reuse?\n",
            "2  What controls are in place for accessing produ...\n",
            "3  Is this system developed and tested using secu...\n",
            "4  What kind of AI is in use?\\n- Deep Learning\\n-...\n"
          ]
        }
      ]
    },
    {
      "cell_type": "code",
      "source": [
        "from sklearn.feature_extraction.text import TfidfVectorizer\n",
        "from sklearn.metrics.pairwise import cosine_similarity\n",
        "from sklearn.cluster import KMeans"
      ],
      "metadata": {
        "id": "0_H2HIsHR4Sf"
      },
      "execution_count": null,
      "outputs": []
    },
    {
      "cell_type": "markdown",
      "source": [
        "Similar questions\n"
      ],
      "metadata": {
        "id": "USPhg5g0PsCr"
      }
    },
    {
      "cell_type": "code",
      "source": [
        "# ensuring the dataset has 'Main Question' and dropping missing values\n",
        "questions_list = data['Main Question'].dropna().tolist()\n",
        "\n",
        "# importing libraries for text processing and similarity calculation\n",
        "from sklearn.feature_extraction.text import TfidfVectorizer\n",
        "from sklearn.metrics.pairwise import cosine_similarity\n",
        "\n",
        "# converting questions into TF-IDF numerical features\n",
        "vectorizer = TfidfVectorizer(stop_words='english')\n",
        "tfidf_matrix = vectorizer.fit_transform(questions_list)\n",
        "\n",
        "# calculating similarity between all questions\n",
        "similarity_matrix = cosine_similarity(tfidf_matrix, tfidf_matrix)\n",
        "\n",
        "# function to find similar questions\n",
        "def get_similar_questions(user_query, num_results=5):\n",
        "    # converting the query into the TF-IDF vector space\n",
        "    query_vector = vectorizer.transform([user_query])\n",
        "    similarity_scores = cosine_similarity(query_vector, tfidf_matrix).flatten() # calculating similarity scores with all questions\n",
        "    # getting the top similar questions\n",
        "    top_question_indices = similarity_scores.argsort()[-num_results:][::-1]\n",
        "    return [(questions_list[idx], similarity_scores[idx]) for idx in top_question_indices]\n",
        "\n",
        "\n",
        "sample_query = \"Does this?\"\n",
        "similar_questions = get_similar_questions(sample_query)\n",
        "\n",
        "print(\"Similar questions:\")\n",
        "for similar_question, score in similar_questions:\n",
        "    print(f\"{similar_question} (score: {score:.4f})\")\n"
      ],
      "metadata": {
        "colab": {
          "base_uri": "https://localhost:8080/"
        },
        "id": "L1RTODfZZZlf",
        "outputId": "0d0eb2c5-8583-42b9-f38e-a074f7d8d619"
      },
      "execution_count": null,
      "outputs": [
        {
          "output_type": "stream",
          "name": "stdout",
          "text": [
            "Similar questions:\n",
            "Does the supplier notify the entity of any vulnerabilities in its products or services promptly, ensuring it does not increase threat vectors? (score: 0.2794)\n",
            "Does the solution require or impact any classified data? (score: 0.2519)\n",
            "What approaches does the third party take to patching systems? (score: 0.2506)\n",
            "Does your service delete data after a certain period? (score: 0.2441)\n",
            "Does your solution support shared and personal devices? (score: 0.2441)\n"
          ]
        }
      ]
    },
    {
      "cell_type": "markdown",
      "source": [
        "Categorize questions in 3 or more different topic areas you identify from the data"
      ],
      "metadata": {
        "id": "vvramwFaVwLW"
      }
    },
    {
      "cell_type": "code",
      "source": [
        "# extracting questions from the dataset and removing missing values\n",
        "questions = data['Main Question'].dropna().tolist()\n",
        "\n",
        "# converting questions into TF-IDF features\n",
        "vectorizer = TfidfVectorizer(stop_words='english')\n",
        "X = vectorizer.fit_transform(questions)\n",
        "\n",
        "# applying K-means clustering with a set number of clusters\n",
        "num_clusters = 5  # Adjust this number based on your needs\n",
        "kmeans = KMeans(n_clusters=num_clusters, random_state=42)\n",
        "kmeans.fit(X)\n",
        "\n",
        "# assigning each question to its respective cluster\n",
        "cluster_labels = kmeans.labels_\n",
        "\n",
        "# creating a DataFrame to pair questions with their assigned cluster\n",
        "questions_df = pd.DataFrame({'Question': questions, 'Cluster': cluster_labels})\n",
        "\n",
        "# printing questions grouped by their clusters\n",
        "for cluster_num in range(num_clusters):\n",
        "    print(f\"\\nCluster {cluster_num + 1}:\")\n",
        "    cluster_questions = questions_df[questions_df['Cluster'] == cluster_num]['Question'].tolist()\n",
        "    for question in cluster_questions[:5]:  # showing 5 questions for each cluster\n",
        "        print(f\"- {question}\")\n",
        "\n",
        "# identifying the top terms for each cluster\n",
        "terms = vectorizer.get_feature_names_out()\n",
        "\n",
        "for cluster_num in range(num_clusters):\n",
        "    print(f\"\\nCluster {cluster_num + 1} - Top 10 Terms:\")\n",
        "    cluster_centroid = kmeans.cluster_centers_[cluster_num]\n",
        "    top_terms_idx = cluster_centroid.argsort()[-10:][::-1]\n",
        "    top_terms = [terms[i] for i in top_terms_idx]\n",
        "    print(f\"Top 10 terms: {', '.join(top_terms)}\")\n"
      ],
      "metadata": {
        "colab": {
          "base_uri": "https://localhost:8080/"
        },
        "id": "VMWR3ZxgZeqq",
        "outputId": "56ea1765-9453-4031-a8c2-0cbb124c4d47"
      },
      "execution_count": null,
      "outputs": [
        {
          "output_type": "stream",
          "name": "stdout",
          "text": [
            "\n",
            "Cluster 1:\n",
            "- Do you have a process to maintain oversight on your third parties, subcontractors, labor hire and recruitment agencies, franchisees, etc., adhering to all relevant labor laws? Please share details of the process.\n",
            "- Regarding your General Liability insurance, please provide the following: 1) name of your carrier; 2) coverage level (both per occurrence and aggregate); and 3) confirmation that the policy is paid in full and currently in force.\n",
            "- Do you provide an automated defect-tracking process for System changes and Enhancements?\n",
            "- If you have a business continuity plan, on which frequency it's exercised and can you provide us with a summary of the results of the latest test?\n",
            "- Please describe the company/user data you require to provide your service.\n",
            "\n",
            "Cluster 2:\n",
            "- Does your organization ensure that no live data, especially personal data, is used in test/development environments?\n",
            "- Do you comply with any request from the client to delete personal data (which includes deleting from all systems)?\n",
            "- If access data is compromised, is it changed immediately after this becomes apparent?\n",
            "- What backup media is supported and do you use standard or proprietary methodologies?\n",
            "- Do you have data processing agreements with all your subcontractors? Explain.\n",
            "\n",
            "Cluster 3:\n",
            "- Are there information security requirements for Protecting Application Services Transactions?\n",
            "- What controls are in place for accessing production systems?\n",
            "- Does your company have an individual or group responsible for security within the organization?\n",
            "- Which network and device security controls are implemented?\n",
            "- Does the information security policy (or policies) cover email use?\n",
            "\n",
            "Cluster 4:\n",
            "- What is the password history before reuse?\n",
            "- Is this system developed and tested using secure coding standards and practices?\n",
            "- Does the organization maintain criteria and conditions that trigger conducting a PIA?\n",
            "- Does the product include recommendations on the hardening or best practice configuration, including the default state of the product?\n",
            "- For which of these does your company establish and maintain baseline configurations and inventories?\n",
            "\n",
            "Cluster 5:\n",
            "- What kind of AI is in use?\n",
            "- Deep Learning\n",
            "- Generative AI\n",
            "- Machine Learning\n",
            "- Has this client application/system been a part of a PCI DSS audit in the last 12 months?\n",
            "- Are you a provider of health benefit services?\n",
            "- Do you conduct an annual assessment to determine if the techniques/procedures utilized to dispose of PII (e.g. deletion, de-identification, cryptographic erasure) have become possible for the client data that has been put beyond use?\n",
            "- Can the Non-Prod environment be fully integrated into the client's real-time and batch Non-Prod environment?\n",
            "\n",
            "Cluster 1 - Top 10 Terms:\n",
            "Top 10 terms: provide, details, data, password, locations, stored, privacy, process, frequency, country\n",
            "\n",
            "Cluster 2 - Top 10 Terms:\n",
            "Top 10 terms: data, access, client, backup, systems, application, delete, development, does, encrypted\n",
            "\n",
            "Cluster 3 - Top 10 Terms:\n",
            "Top 10 terms: security, network, information, implemented, organization, controls, requirements, does, device, systems\n",
            "\n",
            "Cluster 4 - Top 10 Terms:\n",
            "Top 10 terms: does, organization, information, company, personal, solution, management, application, employees, access\n",
            "\n",
            "Cluster 5 - Top 10 Terms:\n",
            "Top 10 terms: client, use, services, vendor, ensure, ai, provide, data, does, provided\n"
          ]
        }
      ]
    },
    {
      "cell_type": "markdown",
      "source": [
        "Create a search function that can find relevant questions given a user query"
      ],
      "metadata": {
        "id": "D1eYV5LyWOUs"
      }
    },
    {
      "cell_type": "code",
      "source": [
        "\n",
        "\"\"\"Finding similar question and search functions are similar so function from the find similar question is used here \"\"\"\n",
        "\n",
        "# asking user input\n",
        "user_query = input(\"Please enter your query: \")\n",
        "\n",
        "# getting similar questions\n",
        "similar_questions = get_similar_questions(user_query)\n",
        "\n",
        "print(\"\\nRelevant questions based on your query:\")\n",
        "for q, score in similar_questions:\n",
        "    print(f\"{q} (score: {score:.4f})\")\n"
      ],
      "metadata": {
        "colab": {
          "base_uri": "https://localhost:8080/"
        },
        "id": "6eFzUnN6f_Uo",
        "outputId": "0215bc6b-bc83-4f74-bbf4-d079d1a78483"
      },
      "execution_count": null,
      "outputs": [
        {
          "output_type": "stream",
          "name": "stdout",
          "text": [
            "Please enter your query: has the client\n",
            "\n",
            "Relevant questions based on your query:\n",
            "Please confirm that the client data will be hosted in an environment dedicated to the client. (score: 0.5373)\n",
            "How can the client obtain regular (quarterly) confirmation that backups are successful? Is there a portal that would tell the client? Would the client raise a support ticket each time? Is there some other way that the client can obtain verification that backups are successful? (score: 0.4529)\n",
            "Has the vendor implemented appropriate controls to ensure that it and its personnel only use the client's data to the extent necessary to provide services to the client? (score: 0.3841)\n",
            "Do you support an integrated experience?\n",
            "a. The client provided logos, name, color, fonts, and tone of voice throughout the web and app platforms.\n",
            "b. The client's brand name URLs\n",
            "c. The client's branded digital (email & texts) and printed member outreach material\n",
            "d. The client's branded App name and instance\n",
            "e. Customized and personalized customer service interaction (score: 0.3762)\n",
            "In the event that authentication/authorization cannot be brokered to the client, what capabilities are provided in the SaaS Solution for the client to manually manage the identity & Access management lifecycle? Does the SaaS has UI for the client user admins to manage users, roles, and access? (score: 0.3483)\n"
          ]
        }
      ]
    },
    {
      "cell_type": "markdown",
      "source": [
        "\n",
        "![Screenshot 2025-01-28 155918.png](data:image/png;base64,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)\n"
      ],
      "metadata": {
        "id": "URBnj6DgYN5B"
      }
    },
    {
      "cell_type": "markdown",
      "source": [],
      "metadata": {
        "id": "DDy6cvwpZ884"
      }
    },
    {
      "cell_type": "code",
      "source": [
        "# Converting the questions into TF-IDF features\n",
        "vectorizer = TfidfVectorizer(stop_words='english')\n",
        "tfidf_matrix = vectorizer.fit_transform(questions)\n",
        "\n",
        "# clustering the questions into groups using KMeans\n",
        "num_clusters = 5\n",
        "kmeans = KMeans(n_clusters=num_clusters, random_state=42)\n",
        "kmeans.fit(tfidf_matrix)\n",
        "\n",
        "data['Cluster'] = kmeans.labels_\n",
        "\n",
        "# checking how the questions are distributed\n",
        "cluster_counts = data['Cluster'].value_counts()\n",
        "\n",
        "# identifying the main topics/themes for each cluster\n",
        "feature_names = vectorizer.get_feature_names_out()\n",
        "order_centroids = kmeans.cluster_centers_.argsort()[:, ::-1]\n",
        "\n",
        "themes = {}\n",
        "for cluster_id in range(num_clusters):\n",
        "    top_terms = [feature_names[index] for index in order_centroids[cluster_id, :10]]  # Top 10 terms\n",
        "    themes[f\"Cluster {cluster_id + 1}\"] = \", \".join(top_terms)\n",
        "\n",
        "# analyzing how questions are structured\n",
        "question_types = {'How': 0, 'What': 0, 'Why': 0, 'When': 0, 'Does': 0, 'Is': 0}\n",
        "for question in questions:\n",
        "    for q_type in question_types:\n",
        "        if question.lower().startswith(q_type.lower()):\n",
        "            question_types[q_type] += 1\n",
        "\n",
        "# extracting the most common keywords\n",
        "tfidf_array = tfidf_matrix.toarray()\n",
        "terms = vectorizer.get_feature_names_out()\n",
        "tfidf_scores = tfidf_array.sum(axis=0)\n",
        "keyword_scores = {terms[i]: tfidf_scores[i] for i in range(len(terms))}\n",
        "\n",
        "# sorting keywords by their scores\n",
        "sorted_keywords = sorted(keyword_scores.items(), key=lambda x: x[1], reverse=True)[:10]\n",
        "\n",
        "\n",
        "print(\"\\nSummary of Findings:\")\n",
        "# Post common topics/themes identified from clusters\n",
        "print(\"\\nMost common topics/themes:\")\n",
        "for cluster, terms in themes.items():\n",
        "    print(f\"{cluster}: {terms}\")\n",
        "\n",
        "# Patterns in how questions are structured\n",
        "print(\"\\nPatterns in question structure:\")\n",
        "for q_type, count in question_types.items():\n",
        "    print(f\"{q_type} questions: {count}\")\n",
        "\n",
        "# Common keywords or phrases across all questions\n",
        "print(\"\\nTop 10 most common keywords/phrases:\")\n",
        "for keyword, score in sorted_keywords:\n",
        "    print(f\"{keyword}: {score:.4f}\")\n"
      ],
      "metadata": {
        "colab": {
          "base_uri": "https://localhost:8080/"
        },
        "id": "mW7HHGRCs1lj",
        "outputId": "751a7af1-aed5-4efd-88be-19af14167bba"
      },
      "execution_count": null,
      "outputs": [
        {
          "output_type": "stream",
          "name": "stdout",
          "text": [
            "\n",
            "Summary of Findings:\n",
            "\n",
            "Most common topics/themes:\n",
            "Cluster 1: provide, details, data, password, locations, stored, privacy, process, frequency, country\n",
            "Cluster 2: data, access, client, backup, systems, application, delete, development, does, encrypted\n",
            "Cluster 3: security, network, information, implemented, organization, controls, requirements, does, device, systems\n",
            "Cluster 4: does, organization, information, company, personal, solution, management, application, employees, access\n",
            "Cluster 5: client, use, services, vendor, ensure, ai, provide, data, does, provided\n",
            "\n",
            "Patterns in question structure:\n",
            "How questions: 8\n",
            "What questions: 20\n",
            "Why questions: 0\n",
            "When questions: 1\n",
            "Does questions: 39\n",
            "Is questions: 27\n",
            "\n",
            "Top 10 most common keywords/phrases:\n",
            "data: 8.6937\n",
            "does: 8.0532\n",
            "client: 5.8522\n",
            "provide: 5.4090\n",
            "security: 5.3535\n",
            "information: 5.0263\n",
            "access: 4.4807\n",
            "organization: 4.2925\n",
            "application: 4.2687\n",
            "process: 3.6676\n"
          ]
        }
      ]
    },
    {
      "cell_type": "code",
      "source": [],
      "metadata": {
        "id": "Xxdz-Ho021Zv"
      },
      "execution_count": null,
      "outputs": []
    }
  ]
}